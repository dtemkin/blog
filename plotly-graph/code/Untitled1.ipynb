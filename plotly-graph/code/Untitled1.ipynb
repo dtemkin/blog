{
 "cells": [
  {
   "cell_type": "code",
   "execution_count": null,
   "metadata": {},
   "outputs": [],
   "source": [
    "fig = go.Figure()\n",
    "buttons = [{\"label\": \"Select Team: \", \"method\": \"update\", \"args\": [{'visible': [False for tm in teams]}]}]\n",
    "for tm in games:\n",
    "    wins_dict = dict(games[tm]['wins'])\n",
    "    loss_dict = dict(games[tm]['losses'])\n",
    "    \n",
    "    wins_dict.update({tm: 0})\n",
    "    wins_dict.update({tx: 0 for tx in teams if tx not in wins_dict})\n",
    "    \n",
    "    loss_dict.update({tm: 0})\n",
    "    loss_dict.update({tx: 0 for tx in teams if tx not in loss_dict})\n",
    "    \n",
    "    yx =[(wins_dict[t], loss_dict[t]) for t in teams]\n",
    "    \n",
    "    \n",
    "    tracex = go.Bar(x=list(teams), y=[y[0] for y in yx],\n",
    "                    name=tm + \" wins\", visible=False, \n",
    "                    hoverinfo=\"x+y\")\n",
    "    tracex2 = go.Bar(x=list(teams), y=[y[1] for y in yx],\n",
    "                     name=tm + \" losses\", visible=False, \n",
    "                     hoverinfo=\"x+y\")\n",
    "    \n",
    "    btnx = {\"label\": tm, 'method': 'update',\n",
    "            \"args\": [{'visible': [True if tm == tmx else False for tmx in teams]}]}\n",
    "    fig.add_traces((tracex, tracex2))\n",
    "    \n",
    "    buttons.append(btnx)"
   ]
  }
 ],
 "metadata": {
  "kernelspec": {
   "display_name": "Python 3",
   "language": "python",
   "name": "python3"
  },
  "language_info": {
   "codemirror_mode": {
    "name": "ipython",
    "version": 3
   },
   "file_extension": ".py",
   "mimetype": "text/x-python",
   "name": "python",
   "nbconvert_exporter": "python",
   "pygments_lexer": "ipython3",
   "version": "3.8.2"
  }
 },
 "nbformat": 4,
 "nbformat_minor": 4
}
