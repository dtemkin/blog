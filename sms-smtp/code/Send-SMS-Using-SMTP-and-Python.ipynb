{
 "cells": [
  {
   "cell_type": "markdown",
   "metadata": {},
   "source": [
    "## Sending SMS via SMTP\n",
    "\n",
    "Recently, I was at a Python meetup and I saw a couple projects that involved send text messages to users. Both used twilio.com API which is perfectly fine but unfortunately has only a free trial version. I thought a more permanent solution would be to use the builtin \"smtplib\" library in Python to send messages to users by using the phone company's SMS or MMS Gateway.\n",
    "\n",
    "There are only two catches to this method, 1) the person will not be text back and would have to send responses via email and 2) the users would need to provide their cell carriers unless you wanted to pay for another api like https://www.carrierlookup.com/ which offers $.01 per lookup when using their API. But, since this does defeat the notion of \"free\" we will assume the user provides their carrier info.\n",
    "\n",
    "As always you can download the jupyter notebook here, or the python file here."
   ]
  },
  {
   "cell_type": "code",
   "execution_count": 2,
   "metadata": {
    "collapsed": false
   },
   "outputs": [
    {
     "name": "stdout",
     "output_type": "stream",
     "text": [
      "To:7085436137@txt.att.net\n",
      "From: temkin.d01@gmail.com\n",
      "Subject:testing \n",
      "\n",
      "done!\n"
     ]
    }
   ],
   "source": [
    "import smtplib\n",
    "import requests\n",
    "import csv\n",
    "\n",
    "subject = \"\"\n",
    "msg = \"\"\n",
    "gmail_account = {\"user\":None, \"password\": None}\n",
    "\n",
    "\n",
    "def mail2textmsg(carrier, msgtype=\"sms\", phone_num):\n",
    "    \n",
    "    gateway = gatewaylookup(carrier=carrier, typ=msgtype)\n",
    "    ph = phone_num.replace(\"-\",\"\")\n",
    "    ph = ph.replace(\"(\",\"\")\n",
    "    ph = ph.replace(\")\",\"\")\n",
    "    ph = ph.replace(\"+\",\"\")\n",
    "    \n",
    "    if len(ph) == 10:\n",
    "        to = '%s@%s' % (ph, gateway)\n",
    "    \n",
    "        gmail_user = gmail_account[\"username\"]\n",
    "        gmail_pwd = gmail_account[\"password\"]\n",
    "\n",
    "        smtpserver = smtplib.SMTP(\"smtp.gmail.com\",587)\n",
    "        smtpserver.ehlo()\n",
    "        smtpserver.starttls()\n",
    "        smtpserver.ehlo\n",
    "        smtpserver.login(gmail_user, gmail_pwd)\n",
    "        header = 'To:' + ph + '\\n' + 'From:  ' + gmail_user + '\\n' + 'Subject:%s \\n'\n",
    "        print(header)\n",
    "        mesg = \"\\n\".join([header, \"RE: %s\" % subject, ' %s \\n\\n' % msg])\n",
    "        smtpserver.sendmail(gmail_user, ph, mesg)\n",
    "        print('mail sent!')\n",
    "        smtpserver.close()\n",
    "    else:\n",
    "        print(\"Phone Number is Invalid Length. Should only include 10 digits.\")\n",
    "        \n",
    "def gatewaylookup(carrier, typ):\n",
    "    gatewaylist = \"https://cdn.rawgit.com/just-dantastic/blog/d20dbeab/data/textmsg_carriers.ls\"\n",
    "    fields = [\"provider\",\"sms\",\"mms\",\"other\"]\n",
    "    req = requests.get(gatewaylist)\n",
    "    readr = csv.DictReader(req.text, fieldnames=fields)\n",
    "    if carrier.lower() in [p.lower() for p in row[\"provider\"]]:\n",
    "        for row in readr:\n",
    "            if carrier.lower() == row[\"provider\"].lower():\n",
    "                return row[typ]\n",
    "            else:\n",
    "                pass\n",
    "    else:\n",
    "        print(\"Carrier Name is Invalid. Please be sure to remove all not alphanumeric characters.\")\n",
    "    "
   ]
  }
 ],
 "metadata": {
  "kernelspec": {
   "display_name": "Python 3",
   "language": "python",
   "name": "python3"
  },
  "language_info": {
   "codemirror_mode": {
    "name": "ipython",
    "version": 3
   },
   "file_extension": ".py",
   "mimetype": "text/x-python",
   "name": "python",
   "nbconvert_exporter": "python",
   "pygments_lexer": "ipython3",
   "version": "3.6.0"
  }
 },
 "nbformat": 4,
 "nbformat_minor": 2
}
